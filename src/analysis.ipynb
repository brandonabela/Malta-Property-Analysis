{
 "cells": [
  {
   "cell_type": "markdown",
   "metadata": {},
   "source": [
    "# Analysis of Real Estate in Malta"
   ]
  },
  {
   "cell_type": "code",
   "execution_count": null,
   "metadata": {},
   "outputs": [],
   "source": [
    "loan_years = 25\n",
    "loan_rate = 0.03\n",
    "\n",
    "downpayment_rate = 0.25\n",
    "\n",
    "vacancy_rate = 0.05\n",
    "repair_rate = 0.05\n",
    "management_rate = 0.1"
   ]
  },
  {
   "cell_type": "markdown",
   "metadata": {
    "heading_collapsed": true
   },
   "source": [
    "## 1.1 - Load Dataset"
   ]
  },
  {
   "cell_type": "code",
   "execution_count": null,
   "metadata": {
    "hidden": true
   },
   "outputs": [],
   "source": [
    "import numpy as np\n",
    "import pandas as pd\n",
    "\n",
    "from scipy import stats\n",
    "\n",
    "dataset = pd.read_csv('../dataset.csv')"
   ]
  },
  {
   "cell_type": "code",
   "execution_count": null,
   "metadata": {
    "hidden": true
   },
   "outputs": [],
   "source": [
    "dataset.loc[(dataset['Is_Sale'] == True), 'Case'] = 1\n",
    "dataset.loc[(dataset['Is_Sale'] != True), 'Case'] = 2\n",
    "\n",
    "dataset"
   ]
  },
  {
   "cell_type": "code",
   "execution_count": null,
   "metadata": {
    "hidden": true
   },
   "outputs": [],
   "source": [
    "res_sale = dataset[dataset['Case'] == 1]\n",
    "res_sale = res_sale[(np.abs(stats.zscore(res_sale['Price'])) < 3)]\n",
    "\n",
    "res_rent = dataset[dataset['Case'] == 2]\n",
    "res_rent = res_rent[(np.abs(stats.zscore(res_rent['Price'])) < 3)]"
   ]
  },
  {
   "cell_type": "markdown",
   "metadata": {
    "heading_collapsed": true
   },
   "source": [
    "## 1.2 - Missing Values"
   ]
  },
  {
   "cell_type": "code",
   "execution_count": null,
   "metadata": {
    "hidden": true
   },
   "outputs": [],
   "source": [
    "import plotly.express as px\n",
    "\n",
    "chart_data = dataset.isna().sum()\n",
    "fig = px.pie(\n",
    "    values=chart_data.values,\n",
    "    names=chart_data.index,\n",
    "    title=\"Missing Values\"\n",
    ")\n",
    "\n",
    "fig.show()"
   ]
  },
  {
   "cell_type": "code",
   "execution_count": null,
   "metadata": {
    "hidden": true
   },
   "outputs": [],
   "source": [
    "dataset[dataset.columns[7:]] = dataset[dataset.columns[7:]].fillna('Unclassified')"
   ]
  },
  {
   "cell_type": "markdown",
   "metadata": {
    "heading_collapsed": true
   },
   "source": [
    "## 1.3 - General Visuals"
   ]
  },
  {
   "cell_type": "code",
   "execution_count": null,
   "metadata": {
    "hidden": true,
    "scrolled": true
   },
   "outputs": [],
   "source": [
    "chart_data = dataset['Case'].value_counts()\n",
    "fig = px.pie(\n",
    "    values=chart_data.values,\n",
    "    names=['Sale', 'Rent'],\n",
    "    title=\"Dataset by Case\"\n",
    ")\n",
    "\n",
    "fig.show()"
   ]
  },
  {
   "cell_type": "code",
   "execution_count": null,
   "metadata": {
    "hidden": true,
    "scrolled": true
   },
   "outputs": [],
   "source": [
    "chart_data = dataset['Source'].value_counts()\n",
    "fig = px.pie(\n",
    "    values=chart_data.values,\n",
    "    names=chart_data.index,\n",
    "    title=\"Dataset by Source\"\n",
    ")\n",
    "\n",
    "fig.show()"
   ]
  },
  {
   "cell_type": "code",
   "execution_count": null,
   "metadata": {
    "hidden": true,
    "scrolled": true
   },
   "outputs": [],
   "source": [
    "chart_data = dataset['Province'].value_counts()\n",
    "fig = px.pie(\n",
    "    values=chart_data.values,\n",
    "    names=chart_data.index,\n",
    "    title=\"Dataset by Province\"\n",
    ")\n",
    "\n",
    "fig.show()"
   ]
  },
  {
   "cell_type": "code",
   "execution_count": null,
   "metadata": {
    "hidden": true,
    "scrolled": false
   },
   "outputs": [],
   "source": [
    "fig = px.scatter_mapbox(\n",
    "    dataset, lat=dataset['Latitude'], lon=dataset['Longitude'], color_discrete_sequence=[dataset['Case']],\n",
    "    hover_name=\"Reference\", hover_data=[\"Case\", \"Price\"]\n",
    ")\n",
    "\n",
    "fig.update_layout(mapbox_style=\"carto-darkmatter\")\n",
    "fig.update_layout(margin={\"r\":0,\"t\":0,\"l\":0,\"b\":0})\n",
    "fig.show()"
   ]
  },
  {
   "cell_type": "markdown",
   "metadata": {
    "heading_collapsed": true
   },
   "source": [
    "## 1.4 - Property Type Distribution"
   ]
  },
  {
   "cell_type": "code",
   "execution_count": null,
   "metadata": {
    "hidden": true,
    "scrolled": false
   },
   "outputs": [],
   "source": [
    "fig = px.box(res_sale, x=\"Type\", y=\"Price\", title=\"Residential Sale - Price Vs Property Type\")\n",
    "fig.show()"
   ]
  },
  {
   "cell_type": "code",
   "execution_count": null,
   "metadata": {
    "hidden": true,
    "scrolled": false
   },
   "outputs": [],
   "source": [
    "fig = px.box(res_rent, x=\"Type\", y=\"Price\", title=\"Residential Rent - Price Vs Property Type\")\n",
    "fig.show()"
   ]
  },
  {
   "cell_type": "markdown",
   "metadata": {
    "heading_collapsed": true
   },
   "source": [
    "## 1.5 - Correlation between Sale and Rent"
   ]
  },
  {
   "cell_type": "code",
   "execution_count": null,
   "metadata": {
    "hidden": true,
    "scrolled": false
   },
   "outputs": [],
   "source": [
    "import seaborn as sn\n",
    "import matplotlib.pyplot as plt\n",
    "\n",
    "valid_cols = [\n",
    "    'Rooms', 'Bedrooms', 'Bathrooms', \n",
    "    'TotalSqm', 'IntArea', 'ExtArea', 'Price'\n",
    "]\n",
    "\n",
    "corr_matrix = res_sale[valid_cols].corr(numeric_only=True)\n",
    "sn.heatmap(corr_matrix, annot=True, cmap='BrBG')\n",
    "plt.show()"
   ]
  },
  {
   "cell_type": "code",
   "execution_count": null,
   "metadata": {
    "hidden": true,
    "scrolled": false
   },
   "outputs": [],
   "source": [
    "corr_matrix = res_rent[valid_cols].corr(numeric_only=True)\n",
    "sn.heatmap(corr_matrix, annot=True, cmap='BrBG')\n",
    "plt.show()"
   ]
  },
  {
   "cell_type": "markdown",
   "metadata": {
    "heading_collapsed": true
   },
   "source": [
    "## 1.6 - Aggregated Data"
   ]
  },
  {
   "cell_type": "code",
   "execution_count": null,
   "metadata": {
    "hidden": true
   },
   "outputs": [],
   "source": [
    "group_by_cols = [\n",
    "    'Type', 'Town', 'Bedrooms'\n",
    "]\n",
    "\n",
    "agg_fun = {\n",
    "    'Reference': 'count',\n",
    "    'Bathrooms': 'median',\n",
    "    'IntArea': 'median',\n",
    "    'ExtArea': 'median',\n",
    "    'Price': ['min', 'max', 'mean']\n",
    "}"
   ]
  },
  {
   "cell_type": "code",
   "execution_count": null,
   "metadata": {
    "hidden": true
   },
   "outputs": [],
   "source": [
    "res_sale_agg = res_sale.groupby(group_by_cols).agg(agg_fun).round(2)\n",
    "res_rent_agg = res_rent.groupby(group_by_cols).agg(agg_fun).round(2)\n",
    "\n",
    "res_sale_agg.columns = ['_'.join(col) for col in res_sale_agg.columns.values]\n",
    "res_rent_agg.columns = ['_'.join(col) for col in res_rent_agg.columns.values]"
   ]
  },
  {
   "cell_type": "code",
   "execution_count": null,
   "metadata": {
    "hidden": true
   },
   "outputs": [],
   "source": [
    "res_agg = res_sale_agg.merge(res_rent_agg, on=group_by_cols)\n",
    "res_agg_flt = res_agg[(res_agg['Reference_count_x'] > 1) & (res_agg['Reference_count_y'] > 1)].round(2).reset_index()\n",
    "\n",
    "res_agg_flt"
   ]
  },
  {
   "cell_type": "code",
   "execution_count": null,
   "metadata": {
    "hidden": true
   },
   "outputs": [],
   "source": [
    "residential = pd.DataFrame()\n",
    "\n",
    "residential[group_by_cols] = res_agg_flt[group_by_cols]\n",
    "\n",
    "residential[[\n",
    "    'Sale_Count', 'Rent_Count', \n",
    "    'Sale_Median_Bathrooms', 'Rent_Median_Bathrooms',\n",
    "    'Sale_Median_IntArea', 'Rent_Median_IntArea',\n",
    "    'Sale_Median_ExtArea', 'Rent_Median_ExtArea', \n",
    "    'Sale_Min_Price', 'Sale_Max_Price', 'Sale_Mean_Price',\n",
    "    'Rent_Min_Price', 'Rent_Max_Price', 'Rent_Mean_Price'\n",
    "]] = res_agg_flt[[\n",
    "    'Reference_count_x', 'Reference_count_y',\n",
    "    'Bathrooms_median_x', 'Bathrooms_median_y',\n",
    "    'IntArea_median_x', 'IntArea_median_y',\n",
    "    'ExtArea_median_x', 'ExtArea_median_y',\n",
    "    'Price_min_x', 'Price_max_x', 'Price_mean_x',\n",
    "    'Price_min_y', 'Price_max_y', 'Price_mean_y'\n",
    "]]\n",
    "\n",
    "residential['Downpayment'] = residential['Sale_Mean_Price'] * downpayment_rate\n",
    "\n",
    "residential['Repayment_Year'] = (residential['Downpayment'] * loan_rate) / (1 - (1 + loan_rate) ** - loan_years)\n",
    "residential['Repayment_Monthly'] = residential['Repayment_Year'] / 12\n",
    "\n",
    "residential['Vacancy_Monthly'] = residential['Rent_Mean_Price'] * vacancy_rate\n",
    "residential['Repairs_Monthly'] = residential['Rent_Mean_Price'] * repair_rate\n",
    "residential['Management_Monthly'] = residential['Rent_Mean_Price'] * management_rate\n",
    "\n",
    "residential['Net_Rent_Year'] = (residential['Rent_Mean_Price'] - (\n",
    "    residential['Repayment_Monthly'] + residential['Vacancy_Monthly'] +\n",
    "    residential['Repairs_Monthly'] + residential['Management_Monthly']\n",
    ")) * 12\n",
    "\n",
    "residential['Net_Rent_Monthly'] = residential['Net_Rent_Year'] / 12\n",
    "\n",
    "residential['CoC_Return'] = residential['Net_Rent_Year'] / residential['Downpayment']\n",
    "\n",
    "residential = residential.round(2)\n",
    "residential"
   ]
  },
  {
   "cell_type": "markdown",
   "metadata": {},
   "source": [
    "## 1.7 - Rank Properties"
   ]
  },
  {
   "cell_type": "code",
   "execution_count": null,
   "metadata": {},
   "outputs": [],
   "source": [
    "res_coc = residential.sort_values('CoC_Return', ascending=False)\n",
    "res_coc = res_coc[res_coc['Type'] != 'Garage (Residential)']\n",
    "\n",
    "res_coc.to_csv('../output.csv', index=False)"
   ]
  },
  {
   "cell_type": "code",
   "execution_count": null,
   "metadata": {},
   "outputs": [],
   "source": [
    "top_10 = res_coc.head(10)\n",
    "top_10"
   ]
  },
  {
   "cell_type": "code",
   "execution_count": null,
   "metadata": {},
   "outputs": [],
   "source": []
  }
 ],
 "metadata": {
  "kernelspec": {
   "display_name": "Python 3 (ipykernel)",
   "language": "python",
   "name": "python3"
  },
  "language_info": {
   "codemirror_mode": {
    "name": "ipython",
    "version": 3
   },
   "file_extension": ".py",
   "mimetype": "text/x-python",
   "name": "python",
   "nbconvert_exporter": "python",
   "pygments_lexer": "ipython3",
   "version": "3.10.4"
  },
  "vscode": {
   "interpreter": {
    "hash": "81a1894c14a7201aefa947688bb6a2b14c032a82d26f2b6e6529093d2fc88757"
   }
  }
 },
 "nbformat": 4,
 "nbformat_minor": 2
}
